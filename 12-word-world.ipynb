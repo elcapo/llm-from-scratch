{
 "cells": [
  {
   "cell_type": "markdown",
   "id": "b6dcdf82-1648-4ad4-ac05-8f406c8d266b",
   "metadata": {},
   "source": [
    "# 12 Word World"
   ]
  },
  {
   "cell_type": "code",
   "execution_count": 1,
   "id": "7e253b28-3040-4f47-b646-2fee23350c16",
   "metadata": {},
   "outputs": [],
   "source": [
    "# Python dependencies\n",
    "import warnings\n",
    "import random\n",
    "\n",
    "# 3rd Party dependencies\n",
    "import torch\n",
    "import numpy as np\n",
    "import umap\n",
    "import matplotlib.pyplot as plt\n",
    "from matplotlib.axes import Axes\n",
    "from matplotlib.ticker import MaxNLocator"
   ]
  },
  {
   "cell_type": "code",
   "execution_count": 2,
   "id": "3319c9f5-326f-4750-af21-c70d0e800055",
   "metadata": {},
   "outputs": [],
   "source": [
    "torch.manual_seed(123)\n",
    "warnings.filterwarnings('ignore')"
   ]
  },
  {
   "cell_type": "markdown",
   "id": "dd2f4183-14a1-41c3-93f6-d39e92ebfedc",
   "metadata": {},
   "source": [
    "## Intentionally Limited Vocabulary\n",
    "\n",
    "We'll train a model with a text that's limited to this vocabulary."
   ]
  },
  {
   "cell_type": "code",
   "execution_count": 3,
   "id": "59e7eaf9-1180-43db-b719-2db63b46690d",
   "metadata": {},
   "outputs": [],
   "source": [
    "adjectives = [\"Serene\", \"Vibrant\", \"Silent\", \"Endless\"]\n",
    "nouns = [\"river\", \"dream\", \"mountain\", \"idea\"]\n",
    "verbs = [\"flows\", \"grows\", \"whispers\", \"shines\"]"
   ]
  },
  {
   "cell_type": "markdown",
   "id": "566b3e14-4bfa-4d53-862d-cd70ab414851",
   "metadata": {},
   "source": [
    "We generate random sentences with those words by randomly concatenating a noun, an adjective and a verb."
   ]
  },
  {
   "cell_type": "code",
   "execution_count": 4,
   "id": "63d485d0-0446-49d6-b04e-7d1738670237",
   "metadata": {},
   "outputs": [],
   "source": [
    "sentence_count = 100\n",
    "\n",
    "twelve_word_world = [\n",
    "    random.choice(adjectives) + \" \" + random.choice(nouns) + \" \" + random.choice(verbs)\n",
    "    for _ in range(sentence_count)\n",
    "]"
   ]
  },
  {
   "cell_type": "code",
   "execution_count": 5,
   "id": "42da0935-6f50-40fd-b2f9-0e72b11ab6db",
   "metadata": {},
   "outputs": [
    {
     "data": {
      "text/plain": [
       "'Vibrant dream flows.<|endoftext|> Endless river whispers.<|endoftext|> Vibrant mountain whispers.<|endoftext|> Silent dream grows.<|endoftext|> Serene dream grows.<|endoftext|> Serene idea whispers.<|endoftext|> Serene dream whispers.<|endoftext|> Endless dream grows.<|endoftext|> Endless dream flows.<|endoftext|> Vibrant mountain grows.<|endoftext|> Endless river shines.<|endoftext|> Vibrant river grows.<|endoftext|> Vibrant mountain shines.<|endoftext|> Vibrant idea grows.<|endoftext|> Endless river shines.<|endoftext|> Serene dream shines.<|endoftext|> Vibrant idea grows.<|endoftext|> Vibrant idea flows.<|endoftext|> Silent river grows.<|endoftext|> Serene dream grows.<|endoftext|> Vibrant mountain whispers.<|endoftext|> Endless idea grows.<|endoftext|> Endless idea whispers.<|endoftext|> Endless idea flows.<|endoftext|> Serene mountain shines.<|endoftext|> Silent dream grows.<|endoftext|> Silent mountain flows.<|endoftext|> Silent mountain whispers.<|endoftext|> Endless mountain whispers.<|endoftext|> Endless mountain flows.<|endoftext|> Serene dream whispers.<|endoftext|> Serene dream whispers.<|endoftext|> Silent mountain grows.<|endoftext|> Vibrant mountain flows.<|endoftext|> Silent dream shines.<|endoftext|> Endless dream grows.<|endoftext|> Silent mountain shines.<|endoftext|> Silent idea shines.<|endoftext|> Serene dream shines.<|endoftext|> Vibrant idea whispers.<|endoftext|> Vibrant idea grows.<|endoftext|> Silent mountain whispers.<|endoftext|> Vibrant mountain whispers.<|endoftext|> Endless mountain flows.<|endoftext|> Serene dream grows.<|endoftext|> Silent dream shines.<|endoftext|> Serene mountain grows.<|endoftext|> Endless mountain shines.<|endoftext|> Silent dream whispers.<|endoftext|> Endless idea flows.<|endoftext|> Endless river shines.<|endoftext|> Serene dream grows.<|endoftext|> Serene dream flows.<|endoftext|> Endless dream shines.<|endoftext|> Serene dream shines.<|endoftext|> Silent river whispers.<|endoftext|> Vibrant river whispers.<|endoftext|> Vibrant mountain whispers.<|endoftext|> Serene dream whispers.<|endoftext|> Endless river whispers.<|endoftext|> Vibrant river shines.<|endoftext|> Serene idea grows.<|endoftext|> Endless dream whispers.<|endoftext|> Endless idea shines.<|endoftext|> Serene mountain whispers.<|endoftext|> Vibrant idea shines.<|endoftext|> Vibrant idea grows.<|endoftext|> Serene idea shines.<|endoftext|> Endless idea whispers.<|endoftext|> Endless idea whispers.<|endoftext|> Silent dream shines.<|endoftext|> Serene idea grows.<|endoftext|> Silent dream flows.<|endoftext|> Silent idea shines.<|endoftext|> Endless mountain shines.<|endoftext|> Serene idea flows.<|endoftext|> Serene mountain whispers.<|endoftext|> Serene idea whispers.<|endoftext|> Silent river shines.<|endoftext|> Vibrant river shines.<|endoftext|> Serene dream shines.<|endoftext|> Endless dream whispers.<|endoftext|> Vibrant dream flows.<|endoftext|> Vibrant idea grows.<|endoftext|> Endless mountain shines.<|endoftext|> Silent dream flows.<|endoftext|> Silent mountain shines.<|endoftext|> Serene dream shines.<|endoftext|> Vibrant river whispers.<|endoftext|> Silent mountain grows.<|endoftext|> Vibrant idea shines.<|endoftext|> Serene river grows.<|endoftext|> Endless dream flows.<|endoftext|> Serene river flows.<|endoftext|> Silent river shines.<|endoftext|> Serene dream flows.<|endoftext|> Serene mountain shines.<|endoftext|> Endless idea flows.<|endoftext|> Silent river flows.<|endoftext|> Vibrant idea shines.<|endoftext|>'"
      ]
     },
     "execution_count": 5,
     "metadata": {},
     "output_type": "execute_result"
    }
   ],
   "source": [
    "from scratch.tokenizers.preprocessor import Preprocessor\n",
    "from scratch.tokenizers.simple_tokenizer import SimpleTokenizer\n",
    "\n",
    "def strings_to_text(strings: list[str]):\n",
    "    return \".<|endoftext|> \".join(strings) + \".<|endoftext|>\"\n",
    "\n",
    "text_data = strings_to_text(twelve_word_world)\n",
    "\n",
    "text_data"
   ]
  },
  {
   "cell_type": "code",
   "execution_count": 6,
   "id": "1cb22b31-d147-4a57-9c99-18044b3cb215",
   "metadata": {},
   "outputs": [],
   "source": [
    "all_tokens = adjectives + nouns + verbs + [\".\", \"<|endoftext|>\", \"<|unk|>\"]\n",
    "random.shuffle(all_tokens)\n",
    "\n",
    "randomized_tokens = \" \".join(all_tokens)"
   ]
  },
  {
   "cell_type": "code",
   "execution_count": 26,
   "id": "370651c8-acd8-4712-95e1-d5a2cd2e4849",
   "metadata": {},
   "outputs": [
    {
     "name": "stdout",
     "output_type": "stream",
     "text": [
      "Vocabulary size 15\n",
      "Sentences 100\n",
      "Total characters 3510\n",
      "Total tokens 500\n"
     ]
    }
   ],
   "source": [
    "preprocessor = Preprocessor()\n",
    "source = preprocessor.preprocess(randomized_tokens)\n",
    "tokenizer = SimpleTokenizer(source)\n",
    "\n",
    "print(\"Vocabulary size\", len(tokenizer.str_to_int))\n",
    "print(\"Sentences\", len(twelve_word_world))\n",
    "print(\"Total characters\", len(text_data))\n",
    "print(\"Total tokens\", len(tokenizer.encode(text_data)))"
   ]
  },
  {
   "cell_type": "code",
   "execution_count": 27,
   "id": "8056ed17-6854-4aba-a359-d1cc1eb9ab39",
   "metadata": {},
   "outputs": [
    {
     "data": {
      "text/plain": [
       "{0: '.',\n",
       " 1: '<|endoftext|>',\n",
       " 2: '<|unk|>',\n",
       " 3: 'Endless',\n",
       " 4: 'Serene',\n",
       " 5: 'Silent',\n",
       " 6: 'Vibrant',\n",
       " 7: 'dream',\n",
       " 8: 'flows',\n",
       " 9: 'grows',\n",
       " 10: 'idea',\n",
       " 11: 'mountain',\n",
       " 12: 'river',\n",
       " 13: 'shines',\n",
       " 14: 'whispers'}"
      ]
     },
     "execution_count": 27,
     "metadata": {},
     "output_type": "execute_result"
    }
   ],
   "source": [
    "tokenizer.int_to_str"
   ]
  },
  {
   "cell_type": "markdown",
   "id": "d73d922c-5348-4ba9-b466-13907d0bb7dc",
   "metadata": {},
   "source": [
    "## Micro GPT Model\n",
    "\n",
    "We instantiate a very tiny model in order to make it quite easy to debug."
   ]
  },
  {
   "cell_type": "code",
   "execution_count": 8,
   "id": "4a3d7d31-ad08-47f1-8393-74781be16439",
   "metadata": {},
   "outputs": [],
   "source": [
    "from scratch.gpt_config import GptConfig\n",
    "from scratch.gpt_model import GptModel\n",
    "\n",
    "config = GptConfig(\n",
    "    vocab_size = len(tokenizer.str_to_int),\n",
    "    context_length = 5,\n",
    "    embedding_dimension = 4,\n",
    "    head_count = 2,\n",
    "    layer_count = 2,\n",
    "    drop_rate = .1,\n",
    "    qkv_bias = False\n",
    ")\n",
    "\n",
    "model = GptModel(config)"
   ]
  },
  {
   "cell_type": "markdown",
   "id": "8df7b0e2-ac9f-4fb4-9306-da0539b9f4b9",
   "metadata": {},
   "source": [
    "Now that our model has just been created with random weights, we'll store its embedding weights so that we can later compare the initial values with the trained ones."
   ]
  },
  {
   "cell_type": "code",
   "execution_count": 9,
   "id": "14e6651b-8fff-4caf-8635-cae739a0081d",
   "metadata": {},
   "outputs": [],
   "source": [
    "initial_embeddings = model.token_embeddings.weight"
   ]
  },
  {
   "cell_type": "markdown",
   "id": "958d968e-a8b0-416f-b579-2ae7f6359234",
   "metadata": {},
   "source": [
    "### Preparing the Training and Validation Datasets"
   ]
  },
  {
   "cell_type": "code",
   "execution_count": 10,
   "id": "1339611b-c528-47f9-bbcf-235dc8d729a7",
   "metadata": {},
   "outputs": [
    {
     "name": "stdout",
     "output_type": "stream",
     "text": [
      "Vibrant idea shines.<|endoftext|> Serene river grows.<|endoftext|> Endless dream flows.<|endoftext|> Serene river flows.<|endoftext|> Silent river shines.<|endoftext|> Serene dream flows.<|endoftext|> Serene mountain shines.<|endoftext|> Endless idea flows.<|endoftext|> Silent river flows.<|endoftext|> Vibrant idea shines.<|endoftext|>\n"
     ]
    }
   ],
   "source": [
    "train_ratio = 0.9\n",
    "split_idx = int(train_ratio * len(twelve_word_world))\n",
    "\n",
    "train_data = strings_to_text(twelve_word_world[:split_idx])\n",
    "validation_data = strings_to_text(twelve_word_world[split_idx:])\n",
    "\n",
    "print(validation_data)"
   ]
  },
  {
   "cell_type": "code",
   "execution_count": 11,
   "id": "28f11ed9-693c-4921-9e6b-45012bbe3ddc",
   "metadata": {},
   "outputs": [],
   "source": [
    "from scratch.dataloader import create_dataloader\n",
    "\n",
    "train_loader = create_dataloader(\n",
    "    train_data,\n",
    "    batch_size=2,\n",
    "    max_length=config.context_length,\n",
    "    stride=config.context_length,\n",
    "    drop_last=True,\n",
    "    shuffle=True,\n",
    "    num_workers=0,\n",
    "    tokenizer=tokenizer,\n",
    ")\n",
    "\n",
    "validation_loader = create_dataloader(\n",
    "    validation_data,\n",
    "    batch_size=2,\n",
    "    max_length=config.context_length,\n",
    "    stride=config.context_length,\n",
    "    drop_last=False,\n",
    "    shuffle=False,\n",
    "    num_workers=0,\n",
    "    tokenizer=tokenizer,\n",
    ")"
   ]
  },
  {
   "cell_type": "markdown",
   "id": "3e023ecf-ca55-44fd-b88b-29fa34fa8a9f",
   "metadata": {},
   "source": [
    "### Checking the Losses before Training"
   ]
  },
  {
   "cell_type": "code",
   "execution_count": 12,
   "id": "1b2a1025-e6e2-4228-9bfd-5d35da062dc3",
   "metadata": {},
   "outputs": [
    {
     "name": "stdout",
     "output_type": "stream",
     "text": [
      "Training loss 2.7097890160300513\n",
      "Validation loss 2.8890981674194336\n"
     ]
    }
   ],
   "source": [
    "from scratch.training.loader_loss import LoaderLoss\n",
    "\n",
    "loader_loss = LoaderLoss(model)\n",
    "\n",
    "with torch.no_grad():\n",
    "    train_loss = loader_loss.calc(train_loader)\n",
    "    validation_loss = loader_loss.calc(validation_loader)\n",
    "\n",
    "print(\"Training loss\", train_loss)\n",
    "print(\"Validation loss\", validation_loss)"
   ]
  },
  {
   "cell_type": "markdown",
   "id": "920d4137-66b4-4311-9c4f-6ac5a96420c4",
   "metadata": {},
   "source": [
    "## Train\n",
    "\n",
    "### Prepare a Trainer"
   ]
  },
  {
   "cell_type": "code",
   "execution_count": 13,
   "id": "a142e84d-3039-405f-9dfe-40b888195bd7",
   "metadata": {},
   "outputs": [],
   "source": [
    "from scratch.generators.probabilistic_text_generator import ProbabilisticTextGenerator\n",
    "from scratch.training.simple_trainer import SimpleTrainer\n",
    "\n",
    "generator = ProbabilisticTextGenerator(\n",
    "    model,\n",
    "    config.context_length,\n",
    "    temperature = 1.1,\n",
    "    top_k = 4,\n",
    "    eos_id = tokenizer.encode(\"<|endoftext|>\")[0]\n",
    ")\n",
    "\n",
    "trainer = SimpleTrainer(\n",
    "    model,\n",
    "    train_loader,\n",
    "    validation_loader,\n",
    "    tokenizer = tokenizer,\n",
    "    optimizer = torch.optim.AdamW(\n",
    "        model.parameters(),\n",
    "        lr = 0.05,\n",
    "        weight_decay = 0.1\n",
    "    ),\n",
    "    generator = generator\n",
    ")"
   ]
  },
  {
   "cell_type": "markdown",
   "id": "059d3b97-ab03-4389-8d24-a2085ec91976",
   "metadata": {},
   "source": [
    "### Run the Training Loop"
   ]
  },
  {
   "cell_type": "code",
   "execution_count": 14,
   "id": "ac7ee5db-00b3-4bec-9afa-b26d90f61a52",
   "metadata": {},
   "outputs": [
    {
     "name": "stdout",
     "output_type": "stream",
     "text": [
      "\n",
      "- Step 0\n",
      "- Train loss 2.6067253676327793\n",
      "- Evaluation loss 2.731452751159668\n",
      "- Generated: Silent mountain whispers.. Silent Vibrant\n",
      "\n",
      "- Step 50\n",
      "- Train loss 1.0112934356386012\n",
      "- Evaluation loss 1.1179678559303283\n",
      "- Generated: Silent mountain whispers.\n",
      "\n",
      "- Step 100\n",
      "- Train loss 0.9054090922529047\n",
      "- Evaluation loss 0.9763160586357117\n",
      "- Generated: Silent mountain whispers.\n",
      "\n",
      "- Step 150\n",
      "- Train loss 0.8880873159928755\n",
      "- Evaluation loss 0.9422512531280518\n",
      "- Generated: Silent mountain shines.\n",
      "\n",
      "- Step 200\n",
      "- Train loss 0.8743109824982557\n",
      "- Evaluation loss 0.9359467148780822\n",
      "- Generated: Silent mountain flows.\n",
      "\n",
      "Training finished\n"
     ]
    }
   ],
   "source": [
    "num_epochs = 5\n",
    "\n",
    "train_losses, validation_losses, tokens_seen = trainer.train(\n",
    "    num_epochs = num_epochs,\n",
    "    eval_freq = 50,\n",
    "    eval_iter = 10**10,\n",
    "    start_context = \"Silent mountain\")"
   ]
  },
  {
   "cell_type": "markdown",
   "id": "7d8beae3-2c50-430f-beec-6c14e21f1e3e",
   "metadata": {},
   "source": [
    "### Checking the Losses during Training"
   ]
  },
  {
   "cell_type": "code",
   "execution_count": 15,
   "id": "03bb3beb-f6bd-4ce0-b4bb-1b432f8fdfbc",
   "metadata": {},
   "outputs": [],
   "source": [
    "def plot_losses(epochs_seen, tokens_seen, train_looses, validation_looses):\n",
    "    fig, ax1 = plt.subplots(figsize=(5,3))\n",
    "\n",
    "    fig.set_figwidth(9)\n",
    "    fig.set_figheight(5)\n",
    "    fig.set_dpi(142)\n",
    "\n",
    "    ax1.plot(epochs_seen, train_looses, label=\"Training loss\")\n",
    "    ax1.plot(epochs_seen, validation_losses, linestyle=\"-.\", label=\"Validation loss\")\n",
    "    ax1.set_xlabel(\"Epochs\")\n",
    "    ax1.set_ylabel(\"Loss\")\n",
    "    ax1.legend(loc=\"upper right\")\n",
    "    ax1.xaxis.set_major_locator(MaxNLocator(integer=True))\n",
    "    ax2 = ax1.twiny()\n",
    "    ax2.plot(tokens_seen, train_losses, alpha=0)\n",
    "    ax2.set_xlabel(\"Tokens seen\")\n",
    "    fig.tight_layout()\n",
    "    plt.show()"
   ]
  },
  {
   "cell_type": "code",
   "execution_count": 16,
   "id": "b5cde427-2c07-40eb-9355-86aa2e40e746",
   "metadata": {},
   "outputs": [
    {
     "data": {
      "image/png": "[encoded data removed]",
      "text/plain": [
       "<Figure size 1278x710 with 2 Axes>"
      ]
     },
     "metadata": {},
     "output_type": "display_data"
    }
   ],
   "source": [
    "epochs_tensor = torch.linspace(0, num_epochs, len(train_losses))\n",
    "plot_losses(epochs_tensor, tokens_seen, train_losses, validation_losses)"
   ]
  },
  {
   "cell_type": "markdown",
   "id": "c11d6a7c-f4f8-4fe9-9593-5b468c9385f1",
   "metadata": {},
   "source": [
    "## Checking the Embedding Changes"
   ]
  },
  {
   "cell_type": "code",
   "execution_count": 17,
   "id": "4880a2a9-baf7-4ab6-b333-4082289de588",
   "metadata": {},
   "outputs": [
    {
     "data": {
      "text/plain": [
       "Parameter containing:\n",
       "tensor([[ 1.3782,  0.7549, -0.5699, -0.9932],\n",
       "        [ 0.2800,  0.3895, -1.3823,  0.2877],\n",
       "        [ 0.2546, -0.3959,  0.2318, -0.4680],\n",
       "        [ 0.5638, -0.3844,  0.0446,  0.5890],\n",
       "        [ 0.3591, -0.7075, -0.1917,  1.4551],\n",
       "        [ 0.2610, -0.5851,  0.0297,  0.7400],\n",
       "        [ 0.3055, -0.8183,  0.0811,  0.2644],\n",
       "        [-1.2025,  0.4456,  0.5175, -0.1829],\n",
       "        [ 0.4032,  0.1246,  0.0402, -0.3069],\n",
       "        [-0.1277, -0.4136,  0.4305, -0.3739],\n",
       "        [-0.4563,  0.7950,  0.2477, -0.4296],\n",
       "        [-0.2523,  0.6317,  0.2362, -0.1140],\n",
       "        [-1.0426,  0.4860, -0.0628, -0.4832],\n",
       "        [-0.3670, -0.7727,  1.2497, -1.1500],\n",
       "        [-0.0214, -0.4165,  0.4080, -0.3795]], device='cuda:0',\n",
       "       requires_grad=True)"
      ]
     },
     "execution_count": 17,
     "metadata": {},
     "output_type": "execute_result"
    }
   ],
   "source": [
    "initial_embeddings"
   ]
  },
  {
   "cell_type": "code",
   "execution_count": 18,
   "id": "b4dd4b2b-8669-4a5d-a93e-d56dfc4ba7a6",
   "metadata": {},
   "outputs": [
    {
     "data": {
      "text/plain": [
       "Parameter containing:\n",
       "tensor([[ 1.3782,  0.7549, -0.5699, -0.9932],\n",
       "        [ 0.2800,  0.3895, -1.3823,  0.2877],\n",
       "        [ 0.2546, -0.3959,  0.2318, -0.4680],\n",
       "        [ 0.5638, -0.3844,  0.0446,  0.5890],\n",
       "        [ 0.3591, -0.7075, -0.1917,  1.4551],\n",
       "        [ 0.2610, -0.5851,  0.0297,  0.7400],\n",
       "        [ 0.3055, -0.8183,  0.0811,  0.2644],\n",
       "        [-1.2025,  0.4456,  0.5175, -0.1829],\n",
       "        [ 0.4032,  0.1246,  0.0402, -0.3069],\n",
       "        [-0.1277, -0.4136,  0.4305, -0.3739],\n",
       "        [-0.4563,  0.7950,  0.2477, -0.4296],\n",
       "        [-0.2523,  0.6317,  0.2362, -0.1140],\n",
       "        [-1.0426,  0.4860, -0.0628, -0.4832],\n",
       "        [-0.3670, -0.7727,  1.2497, -1.1500],\n",
       "        [-0.0214, -0.4165,  0.4080, -0.3795]], device='cuda:0',\n",
       "       requires_grad=True)"
      ]
     },
     "execution_count": 18,
     "metadata": {},
     "output_type": "execute_result"
    }
   ],
   "source": [
    "trained_embeddings = model.token_embeddings.weight\n",
    "\n",
    "trained_embeddings"
   ]
  },
  {
   "cell_type": "code",
   "execution_count": 24,
   "id": "94b641b4-b1c5-4053-ae9d-f28db9a764f7",
   "metadata": {},
   "outputs": [
    {
     "data": {
      "text/plain": [
       "{0: 3,\n",
       " 1: 3,\n",
       " 2: 3,\n",
       " 3: 0,\n",
       " 4: 0,\n",
       " 5: 0,\n",
       " 6: 0,\n",
       " 7: 1,\n",
       " 8: 2,\n",
       " 9: 2,\n",
       " 10: 1,\n",
       " 11: 1,\n",
       " 12: 1,\n",
       " 13: 2,\n",
       " 14: 2}"
      ]
     },
     "execution_count": 24,
     "metadata": {},
     "output_type": "execute_result"
    }
   ],
   "source": [
    "def classify(word: str) -> int:\n",
    "    if word in adjectives:\n",
    "        return 0\n",
    "    if word in nouns:\n",
    "        return 1\n",
    "    if word in verbs:\n",
    "        return 2\n",
    "    return 3\n",
    "\n",
    "classes = {\n",
    "    0: \"Adjective\",\n",
    "    1: \"Noun\",\n",
    "    2: \"Verb\",\n",
    "    3: \"Keyword\",\n",
    "}\n",
    "\n",
    "classification = {token: classify(word) for token, word in tokenizer.int_to_str.items()}\n",
    "classification"
   ]
  },
  {
   "cell_type": "code",
   "execution_count": 20,
   "id": "f77a5979-b722-419b-b768-c1d0212dad3f",
   "metadata": {},
   "outputs": [],
   "source": [
    "colors = {\n",
    "    0: \"tab:blue\",\n",
    "    1: \"tab:green\",\n",
    "    2: \"tab:red\",\n",
    "    3: \"tab:purple\",\n",
    "}"
   ]
  },
  {
   "cell_type": "code",
   "execution_count": 21,
   "id": "8947b0b9-e656-473c-ac5c-3039d32b66e1",
   "metadata": {},
   "outputs": [],
   "source": [
    "def plot_embeddings(embeddings: torch.tensor, title: str):\n",
    "    fig, ax = plt.subplots()\n",
    "    reducer = umap.UMAP(n_components = 2)\n",
    "    reduced_embeddings = reducer.fit_transform(embeddings.tolist())\n",
    "    groups = np.array(list(classification.values()))\n",
    "    for group in np.unique(groups):\n",
    "        index = np.where(groups == group)\n",
    "        ax.scatter(\n",
    "            reduced_embeddings[index][:, 0],\n",
    "            reduced_embeddings[index][:, 1],\n",
    "            c = colors[group],\n",
    "            label = classes[group]\n",
    "        )\n",
    "    ax.legend()\n",
    "    plt.title(title)\n",
    "    plt.show()"
   ]
  },
  {
   "cell_type": "code",
   "execution_count": 22,
   "id": "354ba04f-2c2a-4a89-85e8-5ebdbcc1ad6e",
   "metadata": {},
   "outputs": [
    {
     "data": {
      "image/png": "[encoded data removed]",
      "text/plain": [
       "<Figure size 640x480 with 1 Axes>"
      ]
     },
     "metadata": {},
     "output_type": "display_data"
    }
   ],
   "source": [
    "plot_embeddings(initial_embeddings, \"Initial embeddings\")"
   ]
  },
  {
   "cell_type": "code",
   "execution_count": 23,
   "id": "577bac97-7c2c-409b-933c-08960b60853c",
   "metadata": {},
   "outputs": [
    {
     "data": {
      "image/png": "[encoded data removed]",
      "text/plain": [
       "<Figure size 640x480 with 1 Axes>"
      ]
     },
     "metadata": {},
     "output_type": "display_data"
    }
   ],
   "source": [
    "plot_embeddings(trained_embeddings, \"Trained embeddings\")"
   ]
  }
 ],
 "metadata": {
  "kernelspec": {
   "display_name": "Python 3 (ipykernel)",
   "language": "python",
   "name": "python3"
  },
  "language_info": {
   "codemirror_mode": {
    "name": "ipython",
    "version": 3
   },
   "file_extension": ".py",
   "mimetype": "text/x-python",
   "name": "python",
   "nbconvert_exporter": "python",
   "pygments_lexer": "ipython3",
   "version": "3.12.3"
  }
 },
 "nbformat": 4,
 "nbformat_minor": 5
}
